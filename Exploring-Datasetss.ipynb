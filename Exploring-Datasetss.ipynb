{
 "cells": [
  {
   "cell_type": "markdown",
   "metadata": {},
   "source": [
    "# <font color=red>__Démarche d'exploration et de visualisation des données__ </font>\n",
    "## Exploration des données"
   ]
  },
  {
   "cell_type": "markdown",
   "metadata": {},
   "source": [
    "Dans cette démonstration, on va explorer et analyser un dataset contenant les iformations des politiciens depuis 1980.\n",
    "On va utiliser la bibliothéque pandas pour manipuler un fichier __CSV__ contenant ces données. "
   ]
  },
  {
   "cell_type": "code",
   "execution_count": null,
   "metadata": {},
   "outputs": [],
   "source": [
    "import pandas as pd\n",
    "import numpy as np"
   ]
  },
  {
   "cell_type": "markdown",
   "metadata": {},
   "source": [
    "Notre dataset est donné sous forme de fichier CSV. Pandas fournit un moyen facile de lire notre fichier avec `read_csv`. Le chemin du fichier à lire est relatif à notre fichier sur le disque. Le chemin peut également être une URL, supportant HTTP, FTP et S3 si vos données sont stockées dans un seau AWS S3!"
   ]
  },
  {
   "cell_type": "code",
   "execution_count": 24,
   "metadata": {},
   "outputs": [
    {
     "data": {
      "text/html": [
       "<div>\n",
       "<style scoped>\n",
       "    .dataframe tbody tr th:only-of-type {\n",
       "        vertical-align: middle;\n",
       "    }\n",
       "\n",
       "    .dataframe tbody tr th {\n",
       "        vertical-align: top;\n",
       "    }\n",
       "\n",
       "    .dataframe thead th {\n",
       "        text-align: right;\n",
       "    }\n",
       "</style>\n",
       "<table border=\"1\" class=\"dataframe\">\n",
       "  <thead>\n",
       "    <tr style=\"text-align: right;\">\n",
       "      <th></th>\n",
       "      <th>sex</th>\n",
       "      <th>age</th>\n",
       "      <th>ym</th>\n",
       "      <th>child</th>\n",
       "      <th>religious</th>\n",
       "      <th>education</th>\n",
       "      <th>occupation</th>\n",
       "      <th>rate</th>\n",
       "      <th>nbaffairs</th>\n",
       "    </tr>\n",
       "  </thead>\n",
       "  <tbody>\n",
       "    <tr>\n",
       "      <th>0</th>\n",
       "      <td>male</td>\n",
       "      <td>37</td>\n",
       "      <td>10.00</td>\n",
       "      <td>no</td>\n",
       "      <td>3</td>\n",
       "      <td>18</td>\n",
       "      <td>7</td>\n",
       "      <td>4</td>\n",
       "      <td>0</td>\n",
       "    </tr>\n",
       "    <tr>\n",
       "      <th>1</th>\n",
       "      <td>female</td>\n",
       "      <td>27</td>\n",
       "      <td>4.00</td>\n",
       "      <td>no</td>\n",
       "      <td>4</td>\n",
       "      <td>14</td>\n",
       "      <td>6</td>\n",
       "      <td>4</td>\n",
       "      <td>0</td>\n",
       "    </tr>\n",
       "    <tr>\n",
       "      <th>2</th>\n",
       "      <td>female</td>\n",
       "      <td>32</td>\n",
       "      <td>15.00</td>\n",
       "      <td>yes</td>\n",
       "      <td>1</td>\n",
       "      <td>12</td>\n",
       "      <td>1</td>\n",
       "      <td>4</td>\n",
       "      <td>0</td>\n",
       "    </tr>\n",
       "    <tr>\n",
       "      <th>3</th>\n",
       "      <td>male</td>\n",
       "      <td>57</td>\n",
       "      <td>15.00</td>\n",
       "      <td>yes</td>\n",
       "      <td>5</td>\n",
       "      <td>18</td>\n",
       "      <td>6</td>\n",
       "      <td>5</td>\n",
       "      <td>0</td>\n",
       "    </tr>\n",
       "    <tr>\n",
       "      <th>4</th>\n",
       "      <td>male</td>\n",
       "      <td>22</td>\n",
       "      <td>0.75</td>\n",
       "      <td>no</td>\n",
       "      <td>2</td>\n",
       "      <td>17</td>\n",
       "      <td>6</td>\n",
       "      <td>3</td>\n",
       "      <td>0</td>\n",
       "    </tr>\n",
       "  </tbody>\n",
       "</table>\n",
       "</div>"
      ],
      "text/plain": [
       "      sex  age     ym child  religious  education  occupation  rate  nbaffairs\n",
       "0    male   37  10.00    no          3         18           7     4          0\n",
       "1  female   27   4.00    no          4         14           6     4          0\n",
       "2  female   32  15.00   yes          1         12           1     4          0\n",
       "3    male   57  15.00   yes          5         18           6     5          0\n",
       "4    male   22   0.75    no          2         17           6     3          0"
      ]
     },
     "execution_count": 24,
     "metadata": {},
     "output_type": "execute_result"
    }
   ],
   "source": [
    "affairs = pd.read_csv('affairs.csv',nrows=5)\n",
    "affairs.tail()"
   ]
  },
  {
   "cell_type": "code",
   "execution_count": 23,
   "metadata": {},
   "outputs": [
    {
     "data": {
      "text/html": [
       "<div>\n",
       "<style scoped>\n",
       "    .dataframe tbody tr th:only-of-type {\n",
       "        vertical-align: middle;\n",
       "    }\n",
       "\n",
       "    .dataframe tbody tr th {\n",
       "        vertical-align: top;\n",
       "    }\n",
       "\n",
       "    .dataframe thead th {\n",
       "        text-align: right;\n",
       "    }\n",
       "</style>\n",
       "<table border=\"1\" class=\"dataframe\">\n",
       "  <thead>\n",
       "    <tr style=\"text-align: right;\">\n",
       "      <th></th>\n",
       "      <th>age</th>\n",
       "      <th>ym</th>\n",
       "      <th>religious</th>\n",
       "      <th>occupation</th>\n",
       "      <th>nbaffairs</th>\n",
       "    </tr>\n",
       "  </thead>\n",
       "  <tbody>\n",
       "    <tr>\n",
       "      <th>0</th>\n",
       "      <td>37</td>\n",
       "      <td>10.00</td>\n",
       "      <td>3</td>\n",
       "      <td>7</td>\n",
       "      <td>0</td>\n",
       "    </tr>\n",
       "    <tr>\n",
       "      <th>1</th>\n",
       "      <td>27</td>\n",
       "      <td>4.00</td>\n",
       "      <td>4</td>\n",
       "      <td>6</td>\n",
       "      <td>0</td>\n",
       "    </tr>\n",
       "    <tr>\n",
       "      <th>2</th>\n",
       "      <td>32</td>\n",
       "      <td>15.00</td>\n",
       "      <td>1</td>\n",
       "      <td>1</td>\n",
       "      <td>0</td>\n",
       "    </tr>\n",
       "    <tr>\n",
       "      <th>3</th>\n",
       "      <td>57</td>\n",
       "      <td>15.00</td>\n",
       "      <td>5</td>\n",
       "      <td>6</td>\n",
       "      <td>0</td>\n",
       "    </tr>\n",
       "    <tr>\n",
       "      <th>4</th>\n",
       "      <td>22</td>\n",
       "      <td>0.75</td>\n",
       "      <td>2</td>\n",
       "      <td>6</td>\n",
       "      <td>0</td>\n",
       "    </tr>\n",
       "  </tbody>\n",
       "</table>\n",
       "</div>"
      ],
      "text/plain": [
       "   age     ym  religious  occupation  nbaffairs\n",
       "0   37  10.00          3           7          0\n",
       "1   27   4.00          4           6          0\n",
       "2   32  15.00          1           1          0\n",
       "3   57  15.00          5           6          0\n",
       "4   22   0.75          2           6          0"
      ]
     },
     "execution_count": 23,
     "metadata": {},
     "output_type": "execute_result"
    }
   ],
   "source": [
    "# Des variables sont inexploitables\n",
    "# Choisir les colonnes utiles\n",
    "affairs=pd.read_csv('affairs.csv',\n",
    "    usecols=[1,2,4,6,8],nrows=5)\n",
    "affairs.tail()"
   ]
  },
  {
   "cell_type": "markdown",
   "metadata": {},
   "source": [
    "il est également possible  de laisser \"tomber\" les variable inexploitables:"
   ]
  },
  {
   "cell_type": "code",
   "execution_count": 14,
   "metadata": {},
   "outputs": [
    {
     "data": {
      "text/html": [
       "<div>\n",
       "<style scoped>\n",
       "    .dataframe tbody tr th:only-of-type {\n",
       "        vertical-align: middle;\n",
       "    }\n",
       "\n",
       "    .dataframe tbody tr th {\n",
       "        vertical-align: top;\n",
       "    }\n",
       "\n",
       "    .dataframe thead th {\n",
       "        text-align: right;\n",
       "    }\n",
       "</style>\n",
       "<table border=\"1\" class=\"dataframe\">\n",
       "  <thead>\n",
       "    <tr style=\"text-align: right;\">\n",
       "      <th></th>\n",
       "      <th>sex</th>\n",
       "      <th>age</th>\n",
       "      <th>ym</th>\n",
       "      <th>child</th>\n",
       "      <th>religious</th>\n",
       "      <th>education</th>\n",
       "      <th>occupation</th>\n",
       "    </tr>\n",
       "  </thead>\n",
       "  <tbody>\n",
       "    <tr>\n",
       "      <th>0</th>\n",
       "      <td>male</td>\n",
       "      <td>37</td>\n",
       "      <td>10.00</td>\n",
       "      <td>no</td>\n",
       "      <td>3</td>\n",
       "      <td>18</td>\n",
       "      <td>7</td>\n",
       "    </tr>\n",
       "    <tr>\n",
       "      <th>1</th>\n",
       "      <td>female</td>\n",
       "      <td>27</td>\n",
       "      <td>4.00</td>\n",
       "      <td>no</td>\n",
       "      <td>4</td>\n",
       "      <td>14</td>\n",
       "      <td>6</td>\n",
       "    </tr>\n",
       "    <tr>\n",
       "      <th>2</th>\n",
       "      <td>female</td>\n",
       "      <td>32</td>\n",
       "      <td>15.00</td>\n",
       "      <td>yes</td>\n",
       "      <td>1</td>\n",
       "      <td>12</td>\n",
       "      <td>1</td>\n",
       "    </tr>\n",
       "    <tr>\n",
       "      <th>3</th>\n",
       "      <td>male</td>\n",
       "      <td>57</td>\n",
       "      <td>15.00</td>\n",
       "      <td>yes</td>\n",
       "      <td>5</td>\n",
       "      <td>18</td>\n",
       "      <td>6</td>\n",
       "    </tr>\n",
       "    <tr>\n",
       "      <th>4</th>\n",
       "      <td>male</td>\n",
       "      <td>22</td>\n",
       "      <td>0.75</td>\n",
       "      <td>no</td>\n",
       "      <td>2</td>\n",
       "      <td>17</td>\n",
       "      <td>6</td>\n",
       "    </tr>\n",
       "  </tbody>\n",
       "</table>\n",
       "</div>"
      ],
      "text/plain": [
       "      sex  age     ym child  religious  education  occupation\n",
       "0    male   37  10.00    no          3         18           7\n",
       "1  female   27   4.00    no          4         14           6\n",
       "2  female   32  15.00   yes          1         12           1\n",
       "3    male   57  15.00   yes          5         18           6\n",
       "4    male   22   0.75    no          2         17           6"
      ]
     },
     "execution_count": 14,
     "metadata": {},
     "output_type": "execute_result"
    }
   ],
   "source": [
    "df = affairs.drop([\"nbaffairs\", \"rate\"], axis=1)\n",
    "\n",
    "df.head()"
   ]
  },
  {
   "cell_type": "markdown",
   "metadata": {},
   "source": [
    "La première chose que nous allons vérifier est la taille de notre dataset. Nous pouvons utiliser `info ()` pour obtenir le nombre d'entrées de chaque colonne."
   ]
  },
  {
   "cell_type": "code",
   "execution_count": 5,
   "metadata": {},
   "outputs": [
    {
     "name": "stdout",
     "output_type": "stream",
     "text": [
      "<class 'pandas.core.frame.DataFrame'>\n",
      "RangeIndex: 601 entries, 0 to 600\n",
      "Data columns (total 9 columns):\n",
      "sex           601 non-null object\n",
      "age           601 non-null float64\n",
      "ym            601 non-null float64\n",
      "child         601 non-null object\n",
      "religious     601 non-null int64\n",
      "education     601 non-null int64\n",
      "occupation    601 non-null int64\n",
      "rate          601 non-null int64\n",
      "nbaffairs     601 non-null int64\n",
      "dtypes: float64(2), int64(5), object(2)\n",
      "memory usage: 42.3+ KB\n"
     ]
    }
   ],
   "source": [
    "affairs.info()"
   ]
  },
  {
   "cell_type": "code",
   "execution_count": null,
   "metadata": {},
   "outputs": [
    {
     "data": {
      "text/plain": [
       "sex          category\n",
       "age          category\n",
       "child         float64\n",
       "religious       int64\n",
       "education      object\n",
       "dtype: object"
      ]
     },
     "execution_count": 29,
     "metadata": {},
     "output_type": "execute_result"
    }
   ],
   "source": [
    "#nous pouvons redéfinir les types des variable lors de la lecture du fichier\n",
    "df=pd.read_csv('affairs.csv',skiprows=1,header=None,usecols=[1,2,4,5,6],\n",
    "  names=[\"sex\",\"age\",\"child\",\"religious\",\"education\"],dtype={\"sex\":object,\"age\":float,\"child\":float,\"religious\":int,\"education\":object})\n",
    "#redéfinition des bons types\n",
    "df[\"sex\"]=pd.Categorical(df[\"sex\"],ordered=False)\n",
    "df[\"age\"]=pd.Categorical(df[\"age\"],ordered=False)\n",
    "df.dtypes"
   ]
  },
  {
   "cell_type": "markdown",
   "metadata": {},
   "source": [
    "Alors, à quoi ressemblent les données. utilisons `head ()`, qui imprimera les 5 premières lign\n"
   ]
  },
  {
   "cell_type": "code",
   "execution_count": null,
   "metadata": {},
   "outputs": [
    {
     "data": {
      "text/html": [
       "<div>\n",
       "<style>\n",
       "    .dataframe thead tr:only-child th {\n",
       "        text-align: right;\n",
       "    }\n",
       "\n",
       "    .dataframe thead th {\n",
       "        text-align: left;\n",
       "    }\n",
       "\n",
       "    .dataframe tbody tr th {\n",
       "        vertical-align: top;\n",
       "    }\n",
       "</style>\n",
       "<table border=\"1\" class=\"dataframe\">\n",
       "  <thead>\n",
       "    <tr style=\"text-align: right;\">\n",
       "      <th></th>\n",
       "      <th>sex</th>\n",
       "      <th>age</th>\n",
       "      <th>ym</th>\n",
       "      <th>child</th>\n",
       "      <th>religious</th>\n",
       "      <th>education</th>\n",
       "      <th>occupation</th>\n",
       "      <th>rate</th>\n",
       "      <th>nbaffairs</th>\n",
       "    </tr>\n",
       "  </thead>\n",
       "  <tbody>\n",
       "    <tr>\n",
       "      <th>0</th>\n",
       "      <td>male</td>\n",
       "      <td>37.0</td>\n",
       "      <td>10.00</td>\n",
       "      <td>no</td>\n",
       "      <td>3</td>\n",
       "      <td>18</td>\n",
       "      <td>7</td>\n",
       "      <td>4</td>\n",
       "      <td>0</td>\n",
       "    </tr>\n",
       "    <tr>\n",
       "      <th>1</th>\n",
       "      <td>female</td>\n",
       "      <td>27.0</td>\n",
       "      <td>4.00</td>\n",
       "      <td>no</td>\n",
       "      <td>4</td>\n",
       "      <td>14</td>\n",
       "      <td>6</td>\n",
       "      <td>4</td>\n",
       "      <td>0</td>\n",
       "    </tr>\n",
       "    <tr>\n",
       "      <th>2</th>\n",
       "      <td>female</td>\n",
       "      <td>32.0</td>\n",
       "      <td>15.00</td>\n",
       "      <td>yes</td>\n",
       "      <td>1</td>\n",
       "      <td>12</td>\n",
       "      <td>1</td>\n",
       "      <td>4</td>\n",
       "      <td>0</td>\n",
       "    </tr>\n",
       "    <tr>\n",
       "      <th>3</th>\n",
       "      <td>male</td>\n",
       "      <td>57.0</td>\n",
       "      <td>15.00</td>\n",
       "      <td>yes</td>\n",
       "      <td>5</td>\n",
       "      <td>18</td>\n",
       "      <td>6</td>\n",
       "      <td>5</td>\n",
       "      <td>0</td>\n",
       "    </tr>\n",
       "    <tr>\n",
       "      <th>4</th>\n",
       "      <td>male</td>\n",
       "      <td>22.0</td>\n",
       "      <td>0.75</td>\n",
       "      <td>no</td>\n",
       "      <td>2</td>\n",
       "      <td>17</td>\n",
       "      <td>6</td>\n",
       "      <td>3</td>\n",
       "      <td>0</td>\n",
       "    </tr>\n",
       "  </tbody>\n",
       "</table>\n",
       "</div>"
      ],
      "text/plain": [
       "      sex   age     ym child  religious  education  occupation  rate  \\\n",
       "0    male  37.0  10.00    no          3         18           7     4   \n",
       "1  female  27.0   4.00    no          4         14           6     4   \n",
       "2  female  32.0  15.00   yes          1         12           1     4   \n",
       "3    male  57.0  15.00   yes          5         18           6     5   \n",
       "4    male  22.0   0.75    no          2         17           6     3   \n",
       "\n",
       "   nbaffairs  \n",
       "0          0  \n",
       "1          0  \n",
       "2          0  \n",
       "3          0  \n",
       "4          0  "
      ]
     },
     "execution_count": 6,
     "metadata": {},
     "output_type": "execute_result"
    }
   ],
   "source": [
    "affairs.head()"
   ]
  },
  {
   "cell_type": "markdown",
   "metadata": {},
   "source": [
    "## Echantillonnage simple\n",
    "les fichiers de données sontsouvent trop gros, il reste possible, avant de chercher une configuration matérielle lourde et en première approximation, de tirer un échantillon aléatoire simple selon une distribution uniforme. Un tirage stratifié demanderait plus de travail. Cela suppose de connaître le nombre de ligne du fichier ou une valeur inférieure proche."
   ]
  },
  {
   "cell_type": "code",
   "execution_count": 21,
   "metadata": {},
   "outputs": [
    {
     "data": {
      "text/html": [
       "<div>\n",
       "<style scoped>\n",
       "    .dataframe tbody tr th:only-of-type {\n",
       "        vertical-align: middle;\n",
       "    }\n",
       "\n",
       "    .dataframe tbody tr th {\n",
       "        vertical-align: top;\n",
       "    }\n",
       "\n",
       "    .dataframe thead th {\n",
       "        text-align: right;\n",
       "    }\n",
       "</style>\n",
       "<table border=\"1\" class=\"dataframe\">\n",
       "  <thead>\n",
       "    <tr style=\"text-align: right;\">\n",
       "      <th></th>\n",
       "      <th>sex</th>\n",
       "      <th>age</th>\n",
       "      <th>ym</th>\n",
       "      <th>child</th>\n",
       "      <th>religious</th>\n",
       "      <th>education</th>\n",
       "    </tr>\n",
       "  </thead>\n",
       "  <tbody>\n",
       "    <tr>\n",
       "      <th>0</th>\n",
       "      <td>22.0</td>\n",
       "      <td>0.75</td>\n",
       "      <td>no</td>\n",
       "      <td>2</td>\n",
       "      <td>12</td>\n",
       "      <td>1</td>\n",
       "    </tr>\n",
       "    <tr>\n",
       "      <th>1</th>\n",
       "      <td>32.0</td>\n",
       "      <td>15.00</td>\n",
       "      <td>yes</td>\n",
       "      <td>4</td>\n",
       "      <td>16</td>\n",
       "      <td>1</td>\n",
       "    </tr>\n",
       "    <tr>\n",
       "      <th>2</th>\n",
       "      <td>27.0</td>\n",
       "      <td>4.00</td>\n",
       "      <td>no</td>\n",
       "      <td>4</td>\n",
       "      <td>14</td>\n",
       "      <td>5</td>\n",
       "    </tr>\n",
       "    <tr>\n",
       "      <th>3</th>\n",
       "      <td>37.0</td>\n",
       "      <td>15.00</td>\n",
       "      <td>yes</td>\n",
       "      <td>1</td>\n",
       "      <td>17</td>\n",
       "      <td>5</td>\n",
       "    </tr>\n",
       "    <tr>\n",
       "      <th>4</th>\n",
       "      <td>22.0</td>\n",
       "      <td>0.75</td>\n",
       "      <td>no</td>\n",
       "      <td>3</td>\n",
       "      <td>16</td>\n",
       "      <td>5</td>\n",
       "    </tr>\n",
       "  </tbody>\n",
       "</table>\n",
       "</div>"
      ],
      "text/plain": [
       "    sex    age   ym  child  religious  education\n",
       "0  22.0   0.75   no      2         12          1\n",
       "1  32.0  15.00  yes      4         16          1\n",
       "2  27.0   4.00   no      4         14          5\n",
       "3  37.0  15.00  yes      1         17          5\n",
       "4  22.0   0.75   no      3         16          5"
      ]
     },
     "execution_count": 21,
     "metadata": {},
     "output_type": "execute_result"
    }
   ],
   "source": [
    "N=601  # taille du fichier\n",
    "n=200  # taille de l'échantillon\n",
    "lin2skipe=[0] # ne pas lire la première ligne\n",
    "# ne pas lire N-n lignes tirées aléatoirement\n",
    "lin2skipe.extend(np.random.choice(np.arange(1,N+1),\n",
    "    (N-n),replace=False))\n",
    "df_small=pd.read_csv(\"affairs.csv\",\n",
    "    skiprows=lin2skipe,header=None, \n",
    "    usecols=[1,2,3,4,5,6],\n",
    "    names=[\"sex\",\"age\",\"ym\",\"child\",\n",
    "         \"religious\",\"education\"])\n",
    "df_small"
   ]
  },
  {
   "cell_type": "markdown",
   "metadata": {},
   "source": [
    "## Gérer un table de données\n",
    " ### Discrétisation d'une variable quantitative"
   ]
  },
  {
   "cell_type": "code",
   "execution_count": null,
   "metadata": {},
   "outputs": [
    {
     "data": {
      "text/plain": [
       "0    F\n",
       "1    M\n",
       "2    M\n",
       "3    F\n",
       "4    M\n",
       "Name: SexQ, dtype: category\n",
       "Categories (2, object): [M < F]"
      ]
     },
     "execution_count": 42,
     "metadata": {},
     "output_type": "execute_result"
    }
   ],
   "source": [
    "df[\"SexQ\"]=pd.qcut(df.sex,2,labels=[\"male\",\"female\"])\n",
    "\n",
    "#Modifier / regrouper des modalités\n",
    "df[\"SexQ\"]=df[\"SexQ\"].cat.rename_categories(\n",
    "    [\"M\",\"F\"])\n",
    "df[\"SexQ\"].head()"
   ]
  },
  {
   "cell_type": "code",
   "execution_count": 7,
   "metadata": {},
   "outputs": [
    {
     "data": {
      "text/plain": [
       "0      male\n",
       "1    female\n",
       "2    female\n",
       "3      male\n",
       "4      male\n",
       "Name: sex, dtype: object"
      ]
     },
     "execution_count": 7,
     "metadata": {},
     "output_type": "execute_result"
    }
   ],
   "source": [
    "affairs['sex'].head()"
   ]
  },
  {
   "cell_type": "code",
   "execution_count": 8,
   "metadata": {},
   "outputs": [
    {
     "data": {
      "text/plain": [
       "female    315\n",
       "male      286\n",
       "Name: sex, dtype: int64"
      ]
     },
     "execution_count": 8,
     "metadata": {},
     "output_type": "execute_result"
    }
   ],
   "source": [
    "affairs['sex'].value_counts()"
   ]
  },
  {
   "cell_type": "markdown",
   "metadata": {},
   "source": [
    "Nous pouvons utiliser 'describe()' pour visualiser quelques données statistiques"
   ]
  },
  {
   "cell_type": "code",
   "execution_count": 9,
   "metadata": {},
   "outputs": [
    {
     "data": {
      "text/plain": [
       "count    601.000000\n",
       "mean      32.487521\n",
       "std        9.288762\n",
       "min       17.500000\n",
       "25%       27.000000\n",
       "50%       32.000000\n",
       "75%       37.000000\n",
       "max       57.000000\n",
       "Name: age, dtype: float64"
      ]
     },
     "execution_count": 9,
     "metadata": {},
     "output_type": "execute_result"
    }
   ],
   "source": [
    "affairs['age'].describe()"
   ]
  },
  {
   "cell_type": "code",
   "execution_count": 10,
   "metadata": {},
   "outputs": [
    {
     "data": {
      "text/plain": [
       "57.0"
      ]
     },
     "execution_count": 10,
     "metadata": {},
     "output_type": "execute_result"
    }
   ],
   "source": [
    "affairs['age'].max()"
   ]
  },
  {
   "cell_type": "code",
   "execution_count": 11,
   "metadata": {},
   "outputs": [
    {
     "data": {
      "text/html": [
       "<div>\n",
       "<style>\n",
       "    .dataframe thead tr:only-child th {\n",
       "        text-align: right;\n",
       "    }\n",
       "\n",
       "    .dataframe thead th {\n",
       "        text-align: left;\n",
       "    }\n",
       "\n",
       "    .dataframe tbody tr th {\n",
       "        vertical-align: top;\n",
       "    }\n",
       "</style>\n",
       "<table border=\"1\" class=\"dataframe\">\n",
       "  <thead>\n",
       "    <tr style=\"text-align: right;\">\n",
       "      <th></th>\n",
       "      <th>age</th>\n",
       "      <th>ym</th>\n",
       "      <th>religious</th>\n",
       "      <th>education</th>\n",
       "      <th>occupation</th>\n",
       "      <th>rate</th>\n",
       "      <th>nbaffairs</th>\n",
       "    </tr>\n",
       "  </thead>\n",
       "  <tbody>\n",
       "    <tr>\n",
       "      <th>count</th>\n",
       "      <td>601.000000</td>\n",
       "      <td>601.000000</td>\n",
       "      <td>601.000000</td>\n",
       "      <td>601.000000</td>\n",
       "      <td>601.000000</td>\n",
       "      <td>601.000000</td>\n",
       "      <td>601.000000</td>\n",
       "    </tr>\n",
       "    <tr>\n",
       "      <th>mean</th>\n",
       "      <td>32.487521</td>\n",
       "      <td>8.177696</td>\n",
       "      <td>3.116473</td>\n",
       "      <td>16.166389</td>\n",
       "      <td>4.194676</td>\n",
       "      <td>3.931780</td>\n",
       "      <td>1.455907</td>\n",
       "    </tr>\n",
       "    <tr>\n",
       "      <th>std</th>\n",
       "      <td>9.288762</td>\n",
       "      <td>5.571303</td>\n",
       "      <td>1.167509</td>\n",
       "      <td>2.402555</td>\n",
       "      <td>1.819443</td>\n",
       "      <td>1.103179</td>\n",
       "      <td>3.298758</td>\n",
       "    </tr>\n",
       "    <tr>\n",
       "      <th>min</th>\n",
       "      <td>17.500000</td>\n",
       "      <td>0.125000</td>\n",
       "      <td>1.000000</td>\n",
       "      <td>9.000000</td>\n",
       "      <td>1.000000</td>\n",
       "      <td>1.000000</td>\n",
       "      <td>0.000000</td>\n",
       "    </tr>\n",
       "    <tr>\n",
       "      <th>25%</th>\n",
       "      <td>27.000000</td>\n",
       "      <td>4.000000</td>\n",
       "      <td>2.000000</td>\n",
       "      <td>14.000000</td>\n",
       "      <td>3.000000</td>\n",
       "      <td>3.000000</td>\n",
       "      <td>0.000000</td>\n",
       "    </tr>\n",
       "    <tr>\n",
       "      <th>50%</th>\n",
       "      <td>32.000000</td>\n",
       "      <td>7.000000</td>\n",
       "      <td>3.000000</td>\n",
       "      <td>16.000000</td>\n",
       "      <td>5.000000</td>\n",
       "      <td>4.000000</td>\n",
       "      <td>0.000000</td>\n",
       "    </tr>\n",
       "    <tr>\n",
       "      <th>75%</th>\n",
       "      <td>37.000000</td>\n",
       "      <td>15.000000</td>\n",
       "      <td>4.000000</td>\n",
       "      <td>18.000000</td>\n",
       "      <td>6.000000</td>\n",
       "      <td>5.000000</td>\n",
       "      <td>0.000000</td>\n",
       "    </tr>\n",
       "    <tr>\n",
       "      <th>max</th>\n",
       "      <td>57.000000</td>\n",
       "      <td>15.000000</td>\n",
       "      <td>5.000000</td>\n",
       "      <td>20.000000</td>\n",
       "      <td>7.000000</td>\n",
       "      <td>5.000000</td>\n",
       "      <td>12.000000</td>\n",
       "    </tr>\n",
       "  </tbody>\n",
       "</table>\n",
       "</div>"
      ],
      "text/plain": [
       "              age          ym   religious   education  occupation        rate  \\\n",
       "count  601.000000  601.000000  601.000000  601.000000  601.000000  601.000000   \n",
       "mean    32.487521    8.177696    3.116473   16.166389    4.194676    3.931780   \n",
       "std      9.288762    5.571303    1.167509    2.402555    1.819443    1.103179   \n",
       "min     17.500000    0.125000    1.000000    9.000000    1.000000    1.000000   \n",
       "25%     27.000000    4.000000    2.000000   14.000000    3.000000    3.000000   \n",
       "50%     32.000000    7.000000    3.000000   16.000000    5.000000    4.000000   \n",
       "75%     37.000000   15.000000    4.000000   18.000000    6.000000    5.000000   \n",
       "max     57.000000   15.000000    5.000000   20.000000    7.000000    5.000000   \n",
       "\n",
       "        nbaffairs  \n",
       "count  601.000000  \n",
       "mean     1.455907  \n",
       "std      3.298758  \n",
       "min      0.000000  \n",
       "25%      0.000000  \n",
       "50%      0.000000  \n",
       "75%      0.000000  \n",
       "max     12.000000  "
      ]
     },
     "execution_count": 11,
     "metadata": {},
     "output_type": "execute_result"
    }
   ],
   "source": [
    "affairs.describe()"
   ]
  },
  {
   "cell_type": "code",
   "execution_count": 12,
   "metadata": {},
   "outputs": [
    {
     "data": {
      "text/html": [
       "<div>\n",
       "<style>\n",
       "    .dataframe thead tr:only-child th {\n",
       "        text-align: right;\n",
       "    }\n",
       "\n",
       "    .dataframe thead th {\n",
       "        text-align: left;\n",
       "    }\n",
       "\n",
       "    .dataframe tbody tr th {\n",
       "        vertical-align: top;\n",
       "    }\n",
       "</style>\n",
       "<table border=\"1\" class=\"dataframe\">\n",
       "  <thead>\n",
       "    <tr style=\"text-align: right;\">\n",
       "      <th></th>\n",
       "      <th>sex</th>\n",
       "      <th>age</th>\n",
       "      <th>ym</th>\n",
       "      <th>child</th>\n",
       "      <th>religious</th>\n",
       "      <th>education</th>\n",
       "      <th>occupation</th>\n",
       "      <th>rate</th>\n",
       "      <th>nbaffairs</th>\n",
       "    </tr>\n",
       "  </thead>\n",
       "  <tbody>\n",
       "    <tr>\n",
       "      <th>1</th>\n",
       "      <td>female</td>\n",
       "      <td>27.0</td>\n",
       "      <td>4.00</td>\n",
       "      <td>no</td>\n",
       "      <td>4</td>\n",
       "      <td>14</td>\n",
       "      <td>6</td>\n",
       "      <td>4</td>\n",
       "      <td>0</td>\n",
       "    </tr>\n",
       "    <tr>\n",
       "      <th>2</th>\n",
       "      <td>female</td>\n",
       "      <td>32.0</td>\n",
       "      <td>15.00</td>\n",
       "      <td>yes</td>\n",
       "      <td>1</td>\n",
       "      <td>12</td>\n",
       "      <td>1</td>\n",
       "      <td>4</td>\n",
       "      <td>0</td>\n",
       "    </tr>\n",
       "    <tr>\n",
       "      <th>5</th>\n",
       "      <td>female</td>\n",
       "      <td>32.0</td>\n",
       "      <td>1.50</td>\n",
       "      <td>no</td>\n",
       "      <td>2</td>\n",
       "      <td>17</td>\n",
       "      <td>5</td>\n",
       "      <td>5</td>\n",
       "      <td>0</td>\n",
       "    </tr>\n",
       "    <tr>\n",
       "      <th>6</th>\n",
       "      <td>female</td>\n",
       "      <td>22.0</td>\n",
       "      <td>0.75</td>\n",
       "      <td>no</td>\n",
       "      <td>2</td>\n",
       "      <td>12</td>\n",
       "      <td>1</td>\n",
       "      <td>3</td>\n",
       "      <td>0</td>\n",
       "    </tr>\n",
       "    <tr>\n",
       "      <th>8</th>\n",
       "      <td>female</td>\n",
       "      <td>32.0</td>\n",
       "      <td>15.00</td>\n",
       "      <td>yes</td>\n",
       "      <td>4</td>\n",
       "      <td>16</td>\n",
       "      <td>1</td>\n",
       "      <td>2</td>\n",
       "      <td>0</td>\n",
       "    </tr>\n",
       "  </tbody>\n",
       "</table>\n",
       "</div>"
      ],
      "text/plain": [
       "      sex   age     ym child  religious  education  occupation  rate  \\\n",
       "1  female  27.0   4.00    no          4         14           6     4   \n",
       "2  female  32.0  15.00   yes          1         12           1     4   \n",
       "5  female  32.0   1.50    no          2         17           5     5   \n",
       "6  female  22.0   0.75    no          2         12           1     3   \n",
       "8  female  32.0  15.00   yes          4         16           1     2   \n",
       "\n",
       "   nbaffairs  \n",
       "1          0  \n",
       "2          0  \n",
       "5          0  \n",
       "6          0  \n",
       "8          0  "
      ]
     },
     "execution_count": 12,
     "metadata": {},
     "output_type": "execute_result"
    }
   ],
   "source": [
    "affairs[affairs['sex'] == 'female'].head()"
   ]
  },
  {
   "cell_type": "markdown",
   "metadata": {},
   "source": [
    "L'instruction ci-dessus renvoie une nouvelle image (pas une copie, la modification de cette donnée modifiera aussi l'original)."
   ]
  },
  {
   "cell_type": "code",
   "execution_count": 13,
   "metadata": {},
   "outputs": [
    {
     "data": {
      "text/html": [
       "<div>\n",
       "<style>\n",
       "    .dataframe thead tr:only-child th {\n",
       "        text-align: right;\n",
       "    }\n",
       "\n",
       "    .dataframe thead th {\n",
       "        text-align: left;\n",
       "    }\n",
       "\n",
       "    .dataframe tbody tr th {\n",
       "        vertical-align: top;\n",
       "    }\n",
       "</style>\n",
       "<table border=\"1\" class=\"dataframe\">\n",
       "  <thead>\n",
       "    <tr style=\"text-align: right;\">\n",
       "      <th></th>\n",
       "      <th>age</th>\n",
       "      <th>ym</th>\n",
       "      <th>religious</th>\n",
       "      <th>education</th>\n",
       "      <th>occupation</th>\n",
       "      <th>rate</th>\n",
       "      <th>nbaffairs</th>\n",
       "    </tr>\n",
       "  </thead>\n",
       "  <tbody>\n",
       "    <tr>\n",
       "      <th>count</th>\n",
       "      <td>315.000000</td>\n",
       "      <td>315.000000</td>\n",
       "      <td>315.000000</td>\n",
       "      <td>315.000000</td>\n",
       "      <td>315.000000</td>\n",
       "      <td>315.000000</td>\n",
       "      <td>315.000000</td>\n",
       "    </tr>\n",
       "    <tr>\n",
       "      <th>mean</th>\n",
       "      <td>30.801587</td>\n",
       "      <td>8.017070</td>\n",
       "      <td>3.107937</td>\n",
       "      <td>15.257143</td>\n",
       "      <td>3.384127</td>\n",
       "      <td>3.939683</td>\n",
       "      <td>1.419048</td>\n",
       "    </tr>\n",
       "    <tr>\n",
       "      <th>std</th>\n",
       "      <td>8.646241</td>\n",
       "      <td>5.627237</td>\n",
       "      <td>1.134758</td>\n",
       "      <td>2.023879</td>\n",
       "      <td>1.929094</td>\n",
       "      <td>1.148045</td>\n",
       "      <td>3.309264</td>\n",
       "    </tr>\n",
       "    <tr>\n",
       "      <th>min</th>\n",
       "      <td>17.500000</td>\n",
       "      <td>0.125000</td>\n",
       "      <td>1.000000</td>\n",
       "      <td>9.000000</td>\n",
       "      <td>1.000000</td>\n",
       "      <td>1.000000</td>\n",
       "      <td>0.000000</td>\n",
       "    </tr>\n",
       "    <tr>\n",
       "      <th>25%</th>\n",
       "      <td>22.000000</td>\n",
       "      <td>1.500000</td>\n",
       "      <td>2.000000</td>\n",
       "      <td>14.000000</td>\n",
       "      <td>1.000000</td>\n",
       "      <td>3.000000</td>\n",
       "      <td>0.000000</td>\n",
       "    </tr>\n",
       "    <tr>\n",
       "      <th>50%</th>\n",
       "      <td>27.000000</td>\n",
       "      <td>7.000000</td>\n",
       "      <td>3.000000</td>\n",
       "      <td>16.000000</td>\n",
       "      <td>4.000000</td>\n",
       "      <td>4.000000</td>\n",
       "      <td>0.000000</td>\n",
       "    </tr>\n",
       "    <tr>\n",
       "      <th>75%</th>\n",
       "      <td>37.000000</td>\n",
       "      <td>15.000000</td>\n",
       "      <td>4.000000</td>\n",
       "      <td>17.000000</td>\n",
       "      <td>5.000000</td>\n",
       "      <td>5.000000</td>\n",
       "      <td>0.000000</td>\n",
       "    </tr>\n",
       "    <tr>\n",
       "      <th>max</th>\n",
       "      <td>57.000000</td>\n",
       "      <td>15.000000</td>\n",
       "      <td>5.000000</td>\n",
       "      <td>20.000000</td>\n",
       "      <td>7.000000</td>\n",
       "      <td>5.000000</td>\n",
       "      <td>12.000000</td>\n",
       "    </tr>\n",
       "  </tbody>\n",
       "</table>\n",
       "</div>"
      ],
      "text/plain": [
       "              age          ym   religious   education  occupation        rate  \\\n",
       "count  315.000000  315.000000  315.000000  315.000000  315.000000  315.000000   \n",
       "mean    30.801587    8.017070    3.107937   15.257143    3.384127    3.939683   \n",
       "std      8.646241    5.627237    1.134758    2.023879    1.929094    1.148045   \n",
       "min     17.500000    0.125000    1.000000    9.000000    1.000000    1.000000   \n",
       "25%     22.000000    1.500000    2.000000   14.000000    1.000000    3.000000   \n",
       "50%     27.000000    7.000000    3.000000   16.000000    4.000000    4.000000   \n",
       "75%     37.000000   15.000000    4.000000   17.000000    5.000000    5.000000   \n",
       "max     57.000000   15.000000    5.000000   20.000000    7.000000    5.000000   \n",
       "\n",
       "        nbaffairs  \n",
       "count  315.000000  \n",
       "mean     1.419048  \n",
       "std      3.309264  \n",
       "min      0.000000  \n",
       "25%      0.000000  \n",
       "50%      0.000000  \n",
       "75%      0.000000  \n",
       "max     12.000000  "
      ]
     },
     "execution_count": 13,
     "metadata": {},
     "output_type": "execute_result"
    }
   ],
   "source": [
    "affairs[affairs['sex'] == 'female'].describe()"
   ]
  },
  {
   "cell_type": "markdown",
   "metadata": {},
   "source": [
    "Nous pouvons également créer de nouvelles lignes. Nous allons créer une nouvelle colonne contenant True ou False, que la personne soit inférieure à 30 ou non."
   ]
  },
  {
   "cell_type": "code",
   "execution_count": null,
   "metadata": {
    "collapsed": true
   },
   "outputs": [],
   "source": [
    "affairs['below_30'] = affairs['age'] < 30"
   ]
  },
  {
   "cell_type": "code",
   "execution_count": 15,
   "metadata": {},
   "outputs": [
    {
     "data": {
      "text/plain": [
       "False    325\n",
       "True     276\n",
       "Name: below_30, dtype: int64"
      ]
     },
     "execution_count": 15,
     "metadata": {},
     "output_type": "execute_result"
    }
   ],
   "source": [
    "affairs['below_30'].value_counts()"
   ]
  },
  {
   "cell_type": "code",
   "execution_count": 16,
   "metadata": {},
   "outputs": [
    {
     "data": {
      "text/html": [
       "<div>\n",
       "<style>\n",
       "    .dataframe thead tr:only-child th {\n",
       "        text-align: right;\n",
       "    }\n",
       "\n",
       "    .dataframe thead th {\n",
       "        text-align: left;\n",
       "    }\n",
       "\n",
       "    .dataframe tbody tr th {\n",
       "        vertical-align: top;\n",
       "    }\n",
       "</style>\n",
       "<table border=\"1\" class=\"dataframe\">\n",
       "  <thead>\n",
       "    <tr style=\"text-align: right;\">\n",
       "      <th></th>\n",
       "      <th>sex</th>\n",
       "      <th>age</th>\n",
       "      <th>ym</th>\n",
       "      <th>child</th>\n",
       "      <th>religious</th>\n",
       "      <th>education</th>\n",
       "      <th>occupation</th>\n",
       "      <th>rate</th>\n",
       "      <th>nbaffairs</th>\n",
       "      <th>below_30</th>\n",
       "    </tr>\n",
       "  </thead>\n",
       "  <tbody>\n",
       "    <tr>\n",
       "      <th>0</th>\n",
       "      <td>male</td>\n",
       "      <td>37.0</td>\n",
       "      <td>10.00</td>\n",
       "      <td>no</td>\n",
       "      <td>3</td>\n",
       "      <td>18</td>\n",
       "      <td>7</td>\n",
       "      <td>4</td>\n",
       "      <td>0</td>\n",
       "      <td>False</td>\n",
       "    </tr>\n",
       "    <tr>\n",
       "      <th>1</th>\n",
       "      <td>female</td>\n",
       "      <td>27.0</td>\n",
       "      <td>4.00</td>\n",
       "      <td>no</td>\n",
       "      <td>4</td>\n",
       "      <td>14</td>\n",
       "      <td>6</td>\n",
       "      <td>4</td>\n",
       "      <td>0</td>\n",
       "      <td>True</td>\n",
       "    </tr>\n",
       "    <tr>\n",
       "      <th>2</th>\n",
       "      <td>female</td>\n",
       "      <td>32.0</td>\n",
       "      <td>15.00</td>\n",
       "      <td>yes</td>\n",
       "      <td>1</td>\n",
       "      <td>12</td>\n",
       "      <td>1</td>\n",
       "      <td>4</td>\n",
       "      <td>0</td>\n",
       "      <td>False</td>\n",
       "    </tr>\n",
       "    <tr>\n",
       "      <th>3</th>\n",
       "      <td>male</td>\n",
       "      <td>57.0</td>\n",
       "      <td>15.00</td>\n",
       "      <td>yes</td>\n",
       "      <td>5</td>\n",
       "      <td>18</td>\n",
       "      <td>6</td>\n",
       "      <td>5</td>\n",
       "      <td>0</td>\n",
       "      <td>False</td>\n",
       "    </tr>\n",
       "    <tr>\n",
       "      <th>4</th>\n",
       "      <td>male</td>\n",
       "      <td>22.0</td>\n",
       "      <td>0.75</td>\n",
       "      <td>no</td>\n",
       "      <td>2</td>\n",
       "      <td>17</td>\n",
       "      <td>6</td>\n",
       "      <td>3</td>\n",
       "      <td>0</td>\n",
       "      <td>True</td>\n",
       "    </tr>\n",
       "  </tbody>\n",
       "</table>\n",
       "</div>"
      ],
      "text/plain": [
       "      sex   age     ym child  religious  education  occupation  rate  \\\n",
       "0    male  37.0  10.00    no          3         18           7     4   \n",
       "1  female  27.0   4.00    no          4         14           6     4   \n",
       "2  female  32.0  15.00   yes          1         12           1     4   \n",
       "3    male  57.0  15.00   yes          5         18           6     5   \n",
       "4    male  22.0   0.75    no          2         17           6     3   \n",
       "\n",
       "   nbaffairs  below_30  \n",
       "0          0     False  \n",
       "1          0      True  \n",
       "2          0     False  \n",
       "3          0     False  \n",
       "4          0      True  "
      ]
     },
     "execution_count": 16,
     "metadata": {},
     "output_type": "execute_result"
    }
   ],
   "source": [
    "affairs.head()"
   ]
  },
  {
   "cell_type": "markdown",
   "metadata": {},
   "source": [
    "We can use this to normalize our columns with better values. Take for example `religious`. The number have the following meaning: 1 = not, 2 = mildly, 3 = fairly, 4 = strongly. We can easily replace them inline with the following code."
   ]
  },
  {
   "cell_type": "code",
   "execution_count": 17,
   "metadata": {
    "collapsed": true
   },
   "outputs": [],
   "source": [
    "rel_meanings = ['not', 'mildly', 'fairly', 'strongly']"
   ]
  },
  {
   "cell_type": "code",
   "execution_count": 18,
   "metadata": {},
   "outputs": [],
   "source": [
    "affairs['religious'] = affairs['religious'].apply(lambda x: rel_meanings[min(x, 4)-1])"
   ]
  },
  {
   "cell_type": "code",
   "execution_count": 19,
   "metadata": {},
   "outputs": [
    {
     "data": {
      "text/html": [
       "<div>\n",
       "<style>\n",
       "    .dataframe thead tr:only-child th {\n",
       "        text-align: right;\n",
       "    }\n",
       "\n",
       "    .dataframe thead th {\n",
       "        text-align: left;\n",
       "    }\n",
       "\n",
       "    .dataframe tbody tr th {\n",
       "        vertical-align: top;\n",
       "    }\n",
       "</style>\n",
       "<table border=\"1\" class=\"dataframe\">\n",
       "  <thead>\n",
       "    <tr style=\"text-align: right;\">\n",
       "      <th></th>\n",
       "      <th>sex</th>\n",
       "      <th>age</th>\n",
       "      <th>ym</th>\n",
       "      <th>child</th>\n",
       "      <th>religious</th>\n",
       "      <th>education</th>\n",
       "      <th>occupation</th>\n",
       "      <th>rate</th>\n",
       "      <th>nbaffairs</th>\n",
       "      <th>below_30</th>\n",
       "    </tr>\n",
       "  </thead>\n",
       "  <tbody>\n",
       "    <tr>\n",
       "      <th>0</th>\n",
       "      <td>male</td>\n",
       "      <td>37.0</td>\n",
       "      <td>10.00</td>\n",
       "      <td>no</td>\n",
       "      <td>fairly</td>\n",
       "      <td>18</td>\n",
       "      <td>7</td>\n",
       "      <td>4</td>\n",
       "      <td>0</td>\n",
       "      <td>False</td>\n",
       "    </tr>\n",
       "    <tr>\n",
       "      <th>1</th>\n",
       "      <td>female</td>\n",
       "      <td>27.0</td>\n",
       "      <td>4.00</td>\n",
       "      <td>no</td>\n",
       "      <td>strongly</td>\n",
       "      <td>14</td>\n",
       "      <td>6</td>\n",
       "      <td>4</td>\n",
       "      <td>0</td>\n",
       "      <td>True</td>\n",
       "    </tr>\n",
       "    <tr>\n",
       "      <th>2</th>\n",
       "      <td>female</td>\n",
       "      <td>32.0</td>\n",
       "      <td>15.00</td>\n",
       "      <td>yes</td>\n",
       "      <td>not</td>\n",
       "      <td>12</td>\n",
       "      <td>1</td>\n",
       "      <td>4</td>\n",
       "      <td>0</td>\n",
       "      <td>False</td>\n",
       "    </tr>\n",
       "    <tr>\n",
       "      <th>3</th>\n",
       "      <td>male</td>\n",
       "      <td>57.0</td>\n",
       "      <td>15.00</td>\n",
       "      <td>yes</td>\n",
       "      <td>strongly</td>\n",
       "      <td>18</td>\n",
       "      <td>6</td>\n",
       "      <td>5</td>\n",
       "      <td>0</td>\n",
       "      <td>False</td>\n",
       "    </tr>\n",
       "    <tr>\n",
       "      <th>4</th>\n",
       "      <td>male</td>\n",
       "      <td>22.0</td>\n",
       "      <td>0.75</td>\n",
       "      <td>no</td>\n",
       "      <td>mildly</td>\n",
       "      <td>17</td>\n",
       "      <td>6</td>\n",
       "      <td>3</td>\n",
       "      <td>0</td>\n",
       "      <td>True</td>\n",
       "    </tr>\n",
       "  </tbody>\n",
       "</table>\n",
       "</div>"
      ],
      "text/plain": [
       "      sex   age     ym child religious  education  occupation  rate  \\\n",
       "0    male  37.0  10.00    no    fairly         18           7     4   \n",
       "1  female  27.0   4.00    no  strongly         14           6     4   \n",
       "2  female  32.0  15.00   yes       not         12           1     4   \n",
       "3    male  57.0  15.00   yes  strongly         18           6     5   \n",
       "4    male  22.0   0.75    no    mildly         17           6     3   \n",
       "\n",
       "   nbaffairs  below_30  \n",
       "0          0     False  \n",
       "1          0      True  \n",
       "2          0     False  \n",
       "3          0     False  \n",
       "4          0      True  "
      ]
     },
     "execution_count": 19,
     "metadata": {},
     "output_type": "execute_result"
    }
   ],
   "source": [
    "affairs.head()"
   ]
  },
  {
   "cell_type": "markdown",
   "metadata": {
    "collapsed": true
   },
   "source": [
    "## 2-Fichier JSON"
   ]
  },
  {
   "cell_type": "markdown",
   "metadata": {},
   "source": [
    "Dans cette section on va explorer de données d'un fichier JSON, les fichiers de données de grandes tailles peuvent être pénibles pour les charger en mémoire. Dans ce cas, une combinaison d'outils de ligne de commande et de Python peut constituer un moyen efficace d'__explorer__ et d'analyser les données."
   ]
  },
  {
   "cell_type": "markdown",
   "metadata": {},
   "source": [
    "On va travailler sur un fichier JSON contenant les données des activités des agents de police concernant les violations de la circulation en Montgomery, Maryland.Les données contiennent des informations sur l'endroit où la violation s'est produite, le type de voiture, les données démographiques sur la personne qui reçoit la violation, et d'autres informations intéressantes."
   ]
  },
  {
   "cell_type": "code",
   "execution_count": 1,
   "metadata": {},
   "outputs": [
    {
     "name": "stdout",
     "output_type": "stream",
     "text": [
      "{\n",
      "  \"meta\" : {\n",
      "    \"view\" : {\n",
      "      \"id\" : \"4mse-ku6q\",\n",
      "      \"name\" : \"Traffic Violations\",\n",
      "      \"averageRating\" : 0,\n",
      "      \"category\" : \"Public Safety\",\n",
      "      \"createdAt\" : 1403103517,\n",
      "      \"description\" : \"This dataset contains traffic violation information from all electronic traffic violations issued in the County.  Any information that can be used to uniquely identify the vehicle, the vehicle owner or the officer issuing the violation will not be published.\\r\\n\\r\\nUpdate Frequency:  Daily\",\n",
      "      \"displayType\" : \"table\",\n"
     ]
    }
   ],
   "source": [
    "%%bash\n",
    "\n",
    "head md_traffic.json"
   ]
  },
  {
   "cell_type": "markdown",
   "metadata": {},
   "source": [
    "À partir de là, nous pouvons dire que les données JSON sont un dictionnaire et qu'elles sont bien formatées. meta est une clé de niveau supérieur et est indentée de deux espaces. Nous pouvons obtenir toutes les clés de niveau supérieur en utilisant la commande grep pour afficher les lignes qui ont deux espaces principaux:"
   ]
  },
  {
   "cell_type": "code",
   "execution_count": 2,
   "metadata": {},
   "outputs": [
    {
     "name": "stdout",
     "output_type": "stream",
     "text": [
      "  \"meta\" : {\n",
      "  \"data\" : [ [ 2118167, \"EE8BC302-660F-48C4-B422-17427ECE821F\", 2118167, 1482239054, \"498050\", 1482239054, \"498050\", null, \"2013-09-24T00:00:00\", \"17:11:00\", \"MCP\", \"3rd district, Silver Spring\", \"DRIVING VEHICLE ON HIGHWAY WITH SUSPENDED REGISTRATION\", \"8804 FLOWER AVE\", null, null, \"No\", \"No\", \"No\", \"No\", \"No\", \"No\", \"No\", \"No\", \"No\", \"No\", \"MD\", \"02 - Automobile\", \"2008\", \"FORD\", \"4S\", \"BLACK\", \"Citation\", \"13-401(h)\", \"Transportation Article\", \"No\", \"BLACK\", \"M\", \"TAKOMA PARK\", \"MD\", \"MD\", \"A - Marked Patrol\", [ null, null, null, null, null ] ]\n"
     ]
    }
   ],
   "source": [
    "%%bash\n",
    "\n",
    "grep -E '^ {2}\"' md_traffic.json"
   ]
  },
  {
   "cell_type": "markdown",
   "metadata": {},
   "source": [
    "Cela nous montre que les méta et les données sont des clés de niveau supérieur dans les données md_traffic.json. Chaque liste interne est un enregistrement et le premier enregistrement apparaît dans la sortie de la commande grep. Voici une vue tronquée de l'apparence des données:"
   ]
  },
  {
   "cell_type": "markdown",
   "metadata": {},
   "source": [
    "À partir de la commande head, nous savons qu'il y a au moins 3 niveaux de clés, avec des méta contenant une vue clé, qui contient les clés id, name, averageRating et autres. Nous pouvons imprimer la structure de clé complète du fichier JSON en utilisant grep pour imprimer toutes les lignes avec 2-6 espaces principaux:"
   ]
  },
  {
   "cell_type": "code",
   "execution_count": 3,
   "metadata": {},
   "outputs": [
    {
     "name": "stdout",
     "output_type": "stream",
     "text": [
      "  \"meta\" : {\n",
      "    \"view\" : {\n",
      "      \"id\" : \"4mse-ku6q\",\n",
      "      \"name\" : \"Traffic Violations\",\n",
      "      \"averageRating\" : 0,\n",
      "      \"category\" : \"Public Safety\",\n",
      "      \"createdAt\" : 1403103517,\n",
      "      \"description\" : \"This dataset contains traffic violation information from all electronic traffic violations issued in the County.  Any information that can be used to uniquely identify the vehicle, the vehicle owner or the officer issuing the violation will not be published.\\r\\n\\r\\nUpdate Frequency:  Daily\",\n",
      "      \"displayType\" : \"table\",\n",
      "      \"downloadCount\" : 88405,\n",
      "      \"hideFromCatalog\" : false,\n",
      "      \"hideFromDataJson\" : false,\n",
      "      \"iconUrl\" : \"fileId:r41tDc239M1FL75LFwXFKzFCWqr8mzMeMTYXiA24USM\",\n",
      "      \"indexUpdatedAt\" : 1527586589,\n",
      "      \"newBackend\" : false,\n",
      "      \"numberOfComments\" : 0,\n",
      "      \"oid\" : 8890705,\n",
      "      \"provenance\" : \"official\",\n",
      "      \"publicationAppendEnabled\" : false,\n",
      "      \"publicationDate\" : 1411040702,\n",
      "      \"publicationGroup\" : 1620779,\n",
      "      \"publicationStage\" : \"published\",\n",
      "      \"rowClass\" : \"\",\n",
      "      \"rowsUpdatedAt\" : 1527585786,\n",
      "      \"rowsUpdatedBy\" : \"ajn4-zy65\",\n",
      "      \"tableId\" : 1722160,\n",
      "      \"totalTimesRated\" : 0,\n",
      "      \"viewCount\" : 30132,\n",
      "      \"viewLastModified\" : 1494270268,\n",
      "      \"viewType\" : \"tabular\",\n",
      "      \"columns\" : [ {\n",
      "      \"disabledFeatureFlags\" : [ \"allow_comments\" ],\n",
      "      \"grants\" : [ {\n",
      "      \"metadata\" : {\n",
      "      \"owner\" : {\n",
      "      \"query\" : {\n",
      "      \"rights\" : [ \"read\" ],\n",
      "      \"tableAuthor\" : {\n",
      "      \"tags\" : [ \"traffic\", \"stop\", \"violations\", \"electronic issued.\" ],\n",
      "      \"flags\" : [ \"default\", \"restorable\", \"restorePossibleForType\" ]\n",
      "  \"data\" : [ [ 2118167, \"EE8BC302-660F-48C4-B422-17427ECE821F\", 2118167, 1482239054, \"498050\", 1482239054, \"498050\", null, \"2013-09-24T00:00:00\", \"17:11:00\", \"MCP\", \"3rd district, Silver Spring\", \"DRIVING VEHICLE ON HIGHWAY WITH SUSPENDED REGISTRATION\", \"8804 FLOWER AVE\", null, null, \"No\", \"No\", \"No\", \"No\", \"No\", \"No\", \"No\", \"No\", \"No\", \"No\", \"MD\", \"02 - Automobile\", \"2008\", \"FORD\", \"4S\", \"BLACK\", \"Citation\", \"13-401(h)\", \"Transportation Article\", \"No\", \"BLACK\", \"M\", \"TAKOMA PARK\", \"MD\", \"MD\", \"A - Marked Patrol\", [ null, null, null, null, null ] ]\n"
     ]
    }
   ],
   "source": [
    "%%bash\n",
    "grep -E '^ {2,6}\"' md_traffic.json"
   ]
  },
  {
   "cell_type": "markdown",
   "metadata": {},
   "source": [
    "__Extraire des informations sur les colonnes :__"
   ]
  },
  {
   "cell_type": "markdown",
   "metadata": {},
   "source": [
    "Maintenant que nous savons quelle clé contient des informations sur les colonnes, nous devons lire ces informations. Puisque nous supposons que le fichier JSON ne rentre pas dans la mémoire, nous ne pouvons pas le lire directement en utilisant la bibliothèque json."
   ]
  },
  {
   "cell_type": "markdown",
   "metadata": {},
   "source": [
    "Nous pouvons accomplir cela en utilisant le paquetage ijson. ijson analysera itérativement le fichier json au lieu de tout lire en même temps. "
   ]
  },
  {
   "cell_type": "markdown",
   "metadata": {},
   "source": [
    "Pour utiliser ijson, nous spécifions un fichier dont nous voulons extraire des données, puis nous spécifions un chemin de clé pour extraire:"
   ]
  },
  {
   "cell_type": "code",
   "execution_count": 7,
   "metadata": {},
   "outputs": [],
   "source": [
    "import ijson\n",
    "\n",
    "filename = \"md_traffic.json\"\n",
    "with open(filename, 'r') as f:\n",
    "    objects = ijson.items(f, 'meta.view.columns.item')\n",
    "    columns = list(objects)"
   ]
  },
  {
   "cell_type": "markdown",
   "metadata": {},
   "source": [
    "Dans le code ci-dessus, nous ouvrons le fichier md_traffic.json, puis nous utilisons la méthode items dans ijson pour extraire une liste du fichier. Nous spécifions le chemin d'accès à la liste en utilisant la notation meta.view.columns. Rappelez-vous que meta est une clé de niveau supérieur, qui contient une vue à l'intérieur, qui contient des colonnes à l'intérieur. Nous spécifions ensuite meta.view.columns.item pour indiquer que nous devons extraire chaque élément individuel dans la liste meta.view.columns. La fonction items retournera un générateur, donc nous utilisons la méthode list pour transformer le générateur en une liste Python. Nous pouvons imprimer le premier élément de la liste:"
   ]
  },
  {
   "cell_type": "code",
   "execution_count": 9,
   "metadata": {},
   "outputs": [
    {
     "name": "stdout",
     "output_type": "stream",
     "text": [
      "{'renderTypeName': 'meta_data', 'name': 'sid', 'format': {}, 'id': -1, 'fieldName': ':sid', 'dataTypeName': 'meta_data', 'flags': ['hidden'], 'position': 0}\n"
     ]
    }
   ],
   "source": [
    "print(columns[0])"
   ]
  },
  {
   "cell_type": "markdown",
   "metadata": {},
   "source": [
    "De la sortie ci-dessus, il semble que chaque élément dans les colonnes est un dictionnaire qui contient des informations sur chaque colonne. Pour obtenir notre en-tête, il semble que fieldName soit la clé à extraire. Pour obtenir les noms des colonnes, il suffit d'extraire la clé fieldName de chaque élément dans les colonnes:"
   ]
  },
  {
   "cell_type": "code",
   "execution_count": 10,
   "metadata": {},
   "outputs": [
    {
     "data": {
      "text/plain": [
       "[':sid',\n",
       " ':id',\n",
       " ':position',\n",
       " ':created_at',\n",
       " ':created_meta',\n",
       " ':updated_at',\n",
       " ':updated_meta',\n",
       " ':meta',\n",
       " 'date_of_stop',\n",
       " 'time_of_stop',\n",
       " 'agency',\n",
       " 'subagency',\n",
       " 'description',\n",
       " 'location',\n",
       " 'latitude',\n",
       " 'longitude',\n",
       " 'accident',\n",
       " 'belts',\n",
       " 'personal_injury',\n",
       " 'property_damage',\n",
       " 'fatal',\n",
       " 'commercial_license',\n",
       " 'hazmat',\n",
       " 'commercial_vehicle',\n",
       " 'alcohol',\n",
       " 'work_zone',\n",
       " 'state',\n",
       " 'vehicle_type',\n",
       " 'year',\n",
       " 'make',\n",
       " 'model',\n",
       " 'color',\n",
       " 'violation_type',\n",
       " 'charge',\n",
       " 'article',\n",
       " 'contributed_to_accident',\n",
       " 'race',\n",
       " 'gender',\n",
       " 'driver_city',\n",
       " 'driver_state',\n",
       " 'dl_state',\n",
       " 'arrest_type',\n",
       " 'geolocation']"
      ]
     },
     "execution_count": 10,
     "metadata": {},
     "output_type": "execute_result"
    }
   ],
   "source": [
    "column_names = [col[\"fieldName\"] for col in columns]\n",
    "column_names"
   ]
  },
  {
   "cell_type": "markdown",
   "metadata": {},
   "source": [
    "__extraction des données:__"
   ]
  },
  {
   "cell_type": "markdown",
   "metadata": {},
   "source": [
    "Vous pouvez vous rappeler que les données sont verrouillées dans une liste de listes à l'intérieur de la clé de données. Nous aurons besoin de lire ces données en mémoire pour les manipuler. Heureusement, nous pouvons utiliser les noms de colonnes que nous venons d'extraire pour saisir uniquement les colonnes pertinentes. Cela permettra d'économiser une tonne d'espace. Si l'ensemble de données était plus volumineux, vous pouviez traiter de manière itérative des lots de lignes. Alors lisez dans les 10000000 premières lignes, faites un peu de traitement, puis le prochain 10000000, et ainsi de suite. Dans ce cas, nous pouvons définir les colonnes qui nous intéressent, et encore utiliser ijson pour traiter de façon itérative le fichier JSON:"
   ]
  },
  {
   "cell_type": "code",
   "execution_count": 11,
   "metadata": {},
   "outputs": [],
   "source": [
    "good_columns = [\n",
    "    \"date_of_stop\", \n",
    "    \"time_of_stop\", \n",
    "    \"agency\", \n",
    "    \"subagency\",\n",
    "    \"description\",\n",
    "    \"location\", \n",
    "    \"latitude\", \n",
    "    \"longitude\", \n",
    "    \"vehicle_type\", \n",
    "    \"year\", \n",
    "    \"make\", \n",
    "    \"model\", \n",
    "    \"color\", \n",
    "    \"violation_type\",\n",
    "    \"race\", \n",
    "    \"gender\", \n",
    "    \"driver_state\", \n",
    "    \"driver_city\", \n",
    "    \"dl_state\",\n",
    "    \"arrest_type\"\n",
    "]\n",
    "\n",
    "data = []\n",
    "with open(filename, 'r') as f:\n",
    "    objects = ijson.items(f, 'data.item')\n",
    "    for row in objects:\n",
    "        selected_row = []\n",
    "        for item in good_columns:\n",
    "            selected_row.append(row[column_names.index(item)])\n",
    "        data.append(selected_row)"
   ]
  },
  {
   "cell_type": "markdown",
   "metadata": {},
   "source": [
    "nous pouvons donc imprimer le premier élément des données:"
   ]
  },
  {
   "cell_type": "code",
   "execution_count": 13,
   "metadata": {},
   "outputs": [
    {
     "data": {
      "text/plain": [
       "['2013-09-24T00:00:00',\n",
       " '17:11:00',\n",
       " 'MCP',\n",
       " '3rd district, Silver Spring',\n",
       " 'DRIVING VEHICLE ON HIGHWAY WITH SUSPENDED REGISTRATION',\n",
       " '8804 FLOWER AVE',\n",
       " None,\n",
       " None,\n",
       " '02 - Automobile',\n",
       " '2008',\n",
       " 'FORD',\n",
       " '4S',\n",
       " 'BLACK',\n",
       " 'Citation',\n",
       " 'BLACK',\n",
       " 'M',\n",
       " 'MD',\n",
       " 'TAKOMA PARK',\n",
       " 'MD',\n",
       " 'A - Marked Patrol']"
      ]
     },
     "execution_count": 13,
     "metadata": {},
     "output_type": "execute_result"
    }
   ],
   "source": [
    "data[0]"
   ]
  },
  {
   "cell_type": "markdown",
   "metadata": {},
   "source": [
    "__Lecture des données en utilisant Pandas:__"
   ]
  },
  {
   "cell_type": "markdown",
   "metadata": {},
   "source": [
    "Maintenant que nous avons les données sous la forme d'une liste de listes et les en-têtes de colonne sous forme de liste, nous pouvons créer une base de données Pandas pour analyser les données. C'est une bibliothèque d'analyse de données qui utilise une structure de données efficace et tabulaire appelée Dataframe pour représenter vos données. Pandas nous permet de convertir une liste de listes en une Dataframe et de spécifier les noms de colonnes séparément."
   ]
  },
  {
   "cell_type": "code",
   "execution_count": 14,
   "metadata": {},
   "outputs": [],
   "source": [
    "import pandas as pd\n",
    "\n",
    "stops = pd.DataFrame(data, columns=good_columns)"
   ]
  },
  {
   "cell_type": "markdown",
   "metadata": {},
   "source": [
    "Maintenant que nous avons nos données dans un Dataframe, nous pouvons faire une analyse intéressante. Voici un tableau du nombre d'arrêts effectués par couleur de voiture:"
   ]
  },
  {
   "cell_type": "code",
   "execution_count": 15,
   "metadata": {},
   "outputs": [
    {
     "data": {
      "text/plain": [
       "BLACK          4369\n",
       "SILVER         4093\n",
       "WHITE          3246\n",
       "GRAY           2647\n",
       "RED            1714\n",
       "BLUE           1621\n",
       "GREEN           696\n",
       "GOLD            599\n",
       "BLUE, DARK      435\n",
       "TAN             389\n",
       "MAROON          335\n",
       "N/A             286\n",
       "BEIGE           270\n",
       "BLUE, LIGHT     267\n",
       "GREEN, DK       209\n",
       "BROWN           122\n",
       "GREEN, LGT      111\n",
       "ORANGE           90\n",
       "YELLOW           80\n",
       "PURPLE           44\n",
       "BRONZE           36\n",
       "COPPER           18\n",
       "CREAM            16\n",
       "MULTICOLOR        7\n",
       "Name: color, dtype: int64"
      ]
     },
     "execution_count": 15,
     "metadata": {},
     "output_type": "execute_result"
    }
   ],
   "source": [
    "stops[\"color\"].value_counts()"
   ]
  },
  {
   "cell_type": "markdown",
   "metadata": {},
   "source": [
    "Le camouflage semble être une couleur de voiture très populaire. Voici une table de quel type d'unité de police a créé la citation:"
   ]
  },
  {
   "cell_type": "code",
   "execution_count": 16,
   "metadata": {},
   "outputs": [
    {
     "data": {
      "text/plain": [
       "A - Marked Patrol                         19112\n",
       "Q - Marked Laser                           1204\n",
       "B - Unmarked Patrol                         767\n",
       "E - Marked Stationary Radar                 127\n",
       "G - Marked Moving Radar (Stationary)        100\n",
       "S - License Plate Recognition                77\n",
       "L - Motorcycle                               69\n",
       "O - Foot Patrol                              63\n",
       "F - Unmarked Stationary Radar                51\n",
       "M - Marked (Off-Duty)                        33\n",
       "R - Unmarked Laser                           31\n",
       "I - Marked Moving Radar (Moving)             28\n",
       "H - Unmarked Moving Radar (Stationary)       23\n",
       "J - Unmarked Moving Radar (Moving)           13\n",
       "C - Marked VASCAR                             7\n",
       "P - Mounted Patrol                            4\n",
       "D - Unmarked VASCAR                           3\n",
       "Name: arrest_type, dtype: int64"
      ]
     },
     "execution_count": 16,
     "metadata": {},
     "output_type": "execute_result"
    }
   ],
   "source": [
    "stops[\"arrest_type\"].value_counts()"
   ]
  },
  {
   "cell_type": "markdown",
   "metadata": {},
   "source": [
    "__Conversion de colonnes:__"
   ]
  },
  {
   "cell_type": "markdown",
   "metadata": {},
   "source": [
    "Nous sommes maintenant presque prêts à effectuer une analyse basée sur le temps et l'emplacement, mais nous devons d'abord convertir les colonnes de longitude, de latitude et de date des chaînes en flottants. Nous pouvons utiliser le code ci-dessous pour convertir la latitude et la longitude:"
   ]
  },
  {
   "cell_type": "code",
   "execution_count": 17,
   "metadata": {},
   "outputs": [],
   "source": [
    "import numpy as np\n",
    "\n",
    "def parse_float(x):\n",
    "    try:\n",
    "        x = float(x)\n",
    "    except Exception:\n",
    "        x = 0\n",
    "    return x\n",
    "stops[\"longitude\"] = stops[\"longitude\"].apply(parse_float)\n",
    "stops[\"latitude\"] = stops[\"latitude\"].apply(parse_float)"
   ]
  },
  {
   "cell_type": "markdown",
   "metadata": {},
   "source": [
    "l'heure du jour et la date de l'arrêt sont stockées dans deux colonnes séparées, time_of_stop et date_of_stop. Nous analyserons les deux et les transformerons en une seule colonne"
   ]
  },
  {
   "cell_type": "code",
   "execution_count": 18,
   "metadata": {},
   "outputs": [],
   "source": [
    "import datetime\n",
    "def parse_full_date(row):\n",
    "    date = datetime.datetime.strptime(row[\"date_of_stop\"], \"%Y-%m-%dT%H:%M:%S\")\n",
    "    time = row[\"time_of_stop\"].split(\":\")\n",
    "    date = date.replace(hour=int(time[0]), minute = int(time[1]), second = int(time[2]))\n",
    "    return date\n",
    "\n",
    "stops[\"date\"] = stops.apply(parse_full_date, axis=1)"
   ]
  },
  {
   "cell_type": "markdown",
   "metadata": {},
   "source": [
    "\n",
    "Nous pouvons maintenant faire une parcelle dont les jours entraînent le plus d'arrêts de trafic:"
   ]
  },
  {
   "cell_type": "code",
   "execution_count": 19,
   "metadata": {},
   "outputs": [
    {
     "data": {
      "text/plain": [
       "(array([2754., 2752., 3912., 3176., 3222., 5896.]),\n",
       " array([0., 1., 2., 3., 4., 5., 6.]),\n",
       " <a list of 6 Patch objects>)"
      ]
     },
     "execution_count": 19,
     "metadata": {},
     "output_type": "execute_result"
    },
    {
     "data": {
      "image/png": "[encoded data removed]",
      "text/plain": [
       "<Figure size 432x288 with 1 Axes>"
      ]
     },
     "metadata": {},
     "output_type": "display_data"
    }
   ],
   "source": [
    "import matplotlib.pyplot as plt\n",
    "%matplotlib inline \n",
    "\n",
    "plt.hist(stops[\"date\"].dt.weekday, bins=6)"
   ]
  },
  {
   "cell_type": "markdown",
   "metadata": {},
   "source": [
    "\n",
    "Dans ce plot, lundi est 0, et dimanche est 6. Il semble que le dimanche a le plus d'arrêts, et le lundi a le moins. Cela peut également être un problème de qualité des données lorsque des dates non valides ont été prises dimanche pour une raison quelconque. Nous devons creuser plus profondément dans la colonne date_of_stop pour le comprendre définitivement .\n",
    "Nous pouvons également tracer les heures d'arrêt de la circulation les plus courantes:"
   ]
  },
  {
   "cell_type": "code",
   "execution_count": 20,
   "metadata": {},
   "outputs": [
    {
     "data": {
      "text/plain": [
       "(array([1556., 1263., 1041.,  665.,  319.,  246.,  279.,  509.,  898.,\n",
       "         910.,  777.,  648.,  749.,  745.,  867.,  743.,  798.,  874.,\n",
       "         713.,  843., 1011., 1395., 1925., 1938.]),\n",
       " array([ 0.        ,  0.95833333,  1.91666667,  2.875     ,  3.83333333,\n",
       "         4.79166667,  5.75      ,  6.70833333,  7.66666667,  8.625     ,\n",
       "         9.58333333, 10.54166667, 11.5       , 12.45833333, 13.41666667,\n",
       "        14.375     , 15.33333333, 16.29166667, 17.25      , 18.20833333,\n",
       "        19.16666667, 20.125     , 21.08333333, 22.04166667, 23.        ]),\n",
       " <a list of 24 Patch objects>)"
      ]
     },
     "execution_count": 20,
     "metadata": {},
     "output_type": "execute_result"
    },
    {
     "data": {
      "image/png": "[encoded data removed]",
      "text/plain": [
       "<Figure size 432x288 with 1 Axes>"
      ]
     },
     "metadata": {},
     "output_type": "display_data"
    }
   ],
   "source": [
    "plt.hist(stops[\"date\"].dt.hour, bins=24)"
   ]
  },
  {
   "cell_type": "markdown",
   "metadata": {},
   "source": [
    "\n",
    "Il semble que la plupart des arrêts se produisent vers minuit, et le plus petit se produit vers 5h du matin. Cela pourrait sembler logique, car les gens rentre chez eux après les dîners tard le soir et peuvent être affaiblis. Cela peut également être un problème de qualité des données."
   ]
  },
  {
   "cell_type": "markdown",
   "metadata": {},
   "source": [
    "__Regroupement des arrets:__"
   ]
  },
  {
   "cell_type": "markdown",
   "metadata": {},
   "source": [
    "\n",
    "Maintenant que nous avons converti les colonnes de localisation et de date, nous pouvons cartographier les arrêts de trafic. Comme le mappage est très intensif en termes de ressources CPU et de mémoire, nous devons d'abord filtrer les lignes que nous utilisons à partir des arrêts:"
   ]
  },
  {
   "cell_type": "code",
   "execution_count": 21,
   "metadata": {},
   "outputs": [],
   "source": [
    "last_year = stops[stops[\"date\"] > datetime.datetime(year=2015, month=2, day=18)]"
   ]
  },
  {
   "cell_type": "markdown",
   "metadata": {},
   "source": [
    "\n",
    "Dans le code ci-dessus, nous avons sélectionné toutes les lignes de l'année précédente. Nous pouvons encore réduire cette valeur et sélectionner uniquement les rangées qui se sont produites pendant les heures de pointe, la période du matin où tout le monde va travailler:"
   ]
  },
  {
   "cell_type": "code",
   "execution_count": 22,
   "metadata": {},
   "outputs": [
    {
     "name": "stdout",
     "output_type": "stream",
     "text": [
      "(1804, 21)\n"
     ]
    },
    {
     "data": {
      "text/plain": [
       "(18336, 21)"
      ]
     },
     "execution_count": 22,
     "metadata": {},
     "output_type": "execute_result"
    }
   ],
   "source": [
    "morning_rush = last_year[(last_year[\"date\"].dt.weekday < 5) & (last_year[\"date\"].dt.hour > 5) & (last_year[\"date\"].dt.hour < 10)]\n",
    "print(morning_rush.shape)\n",
    "last_year.shape"
   ]
  },
  {
   "cell_type": "markdown",
   "metadata": {},
   "source": [
    "En utilisant le paquet folium, nous pouvons maintenant visualiser où tous les arrêts se sont produits. Folium vous permet de créer facilement des cartes interactives en Python en tirant parti de la brochure. Afin de préserver les performances, nous ne visualisons que les 1000 premières lignes de morning_rush:"
   ]
  },
  {
   "cell_type": "code",
   "execution_count": 32,
   "metadata": {},
   "outputs": [
    {
     "ename": "AttributeError",
     "evalue": "module 'folium' has no attribute 'MarkerCluster'",
     "traceback": [
      "\u001b[0;31m---------------------------------------------------------------------------\u001b[0m",
      "\u001b[0;31mAttributeError\u001b[0m                            Traceback (most recent call last)",
      "\u001b[0;32m<ipython-input-32-43cf3ea27642>\u001b[0m in \u001b[0;36m<module>\u001b[0;34m()\u001b[0m\n\u001b[1;32m      3\u001b[0m \u001b[0;34m\u001b[0m\u001b[0m\n\u001b[1;32m      4\u001b[0m \u001b[0mstops_map\u001b[0m \u001b[0;34m=\u001b[0m \u001b[0mfolium\u001b[0m\u001b[0;34m.\u001b[0m\u001b[0mMap\u001b[0m\u001b[0;34m(\u001b[0m\u001b[0mlocation\u001b[0m\u001b[0;34m=\u001b[0m\u001b[0;34m[\u001b[0m\u001b[0;36m39.0836\u001b[0m\u001b[0;34m,\u001b[0m \u001b[0;34m-\u001b[0m\u001b[0;36m77.1483\u001b[0m\u001b[0;34m]\u001b[0m\u001b[0;34m,\u001b[0m \u001b[0mzoom_start\u001b[0m\u001b[0;34m=\u001b[0m\u001b[0;36m11\u001b[0m\u001b[0;34m)\u001b[0m\u001b[0;34m\u001b[0m\u001b[0m\n\u001b[0;32m----> 5\u001b[0;31m \u001b[0mmarker_cluster\u001b[0m \u001b[0;34m=\u001b[0m \u001b[0mfolium\u001b[0m\u001b[0;34m.\u001b[0m\u001b[0mMarkerCluster\u001b[0m\u001b[0;34m(\u001b[0m\u001b[0;34m)\u001b[0m\u001b[0;34m.\u001b[0m\u001b[0madd_to\u001b[0m\u001b[0;34m(\u001b[0m\u001b[0mstops_map\u001b[0m\u001b[0;34m)\u001b[0m\u001b[0;34m\u001b[0m\u001b[0m\n\u001b[0m\u001b[1;32m      6\u001b[0m \u001b[0;32mfor\u001b[0m \u001b[0mname\u001b[0m\u001b[0;34m,\u001b[0m \u001b[0mrow\u001b[0m \u001b[0;32min\u001b[0m \u001b[0mmorning_rush\u001b[0m\u001b[0;34m.\u001b[0m\u001b[0miloc\u001b[0m\u001b[0;34m[\u001b[0m\u001b[0;34m:\u001b[0m\u001b[0;36m1000\u001b[0m\u001b[0;34m]\u001b[0m\u001b[0;34m.\u001b[0m\u001b[0miterrows\u001b[0m\u001b[0;34m(\u001b[0m\u001b[0;34m)\u001b[0m\u001b[0;34m:\u001b[0m\u001b[0;34m\u001b[0m\u001b[0m\n\u001b[1;32m      7\u001b[0m     \u001b[0mfolium\u001b[0m\u001b[0;34m.\u001b[0m\u001b[0mMarker\u001b[0m\u001b[0;34m(\u001b[0m\u001b[0;34m[\u001b[0m\u001b[0mrow\u001b[0m\u001b[0;34m[\u001b[0m\u001b[0;34m\"longitude\"\u001b[0m\u001b[0;34m]\u001b[0m\u001b[0;34m,\u001b[0m \u001b[0mrow\u001b[0m\u001b[0;34m[\u001b[0m\u001b[0;34m\"latitude\"\u001b[0m\u001b[0;34m]\u001b[0m\u001b[0;34m]\u001b[0m\u001b[0;34m,\u001b[0m \u001b[0mpopup\u001b[0m\u001b[0;34m=\u001b[0m\u001b[0mrow\u001b[0m\u001b[0;34m[\u001b[0m\u001b[0;34m\"description\"\u001b[0m\u001b[0;34m]\u001b[0m\u001b[0;34m)\u001b[0m\u001b[0;34m.\u001b[0m\u001b[0madd_to\u001b[0m\u001b[0;34m(\u001b[0m\u001b[0mmarker_cluster\u001b[0m\u001b[0;34m)\u001b[0m\u001b[0;34m\u001b[0m\u001b[0m\n",
      "\u001b[0;31mAttributeError\u001b[0m: module 'folium' has no attribute 'MarkerCluster'"
     ],
     "output_type": "error"
    }
   ],
   "source": [
    "import folium\n",
    "from folium import plugins\n",
    "\n",
    "stops_map = folium.Map(location=[39.0836, -77.1483], zoom_start=11)\n",
    "marker_cluster = folium.MarkerCluster().add_to(stops_map)\n",
    "for name, row in morning_rush.iloc[:1000].iterrows():\n",
    "    folium.Marker([row[\"longitude\"], row[\"latitude\"]], popup=row[\"description\"]).add_to(marker_cluster)\n",
    "stops_map.create_map('stops.html')\n",
    "stops_map"
   ]
  },
  {
   "cell_type": "markdown",
   "metadata": {},
   "source": [
    "Cela montre que de nombreux arrêts de la circulation sont concentrés dans la partie inférieure droite de la zone. Nous pouvons étendre notre analyse avec un heatmap:"
   ]
  },
  {
   "cell_type": "code",
   "execution_count": 31,
   "metadata": {},
   "outputs": [
    {
     "name": "stderr",
     "output_type": "stream",
     "text": [
      "/home/simo/PycharmProjects/pfa_SmartGrids/venv/lib/python3.5/site-packages/ipykernel_launcher.py:2: FutureWarning: Method `add_children` is deprecated. Please use `add_child` instead.\n",
      "  \n"
     ]
    },
    {
     "data": {
      "text/html": [
       "<div style=\"width:100%;\"><div style=\"position:relative;width:100%;height:0;padding-bottom:60%;\"><iframe src=\"data:text/html;charset=utf-8;base64,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\" style=\"position:absolute;width:100%;height:100%;left:0;top:0;border:none !important;\" allowfullscreen webkitallowfullscreen mozallowfullscreen></iframe></div></div>"
      ],
      "text/plain": [
       "<folium.folium.Map at 0x7fd499f56278>"
      ]
     },
     "execution_count": 31,
     "metadata": {},
     "output_type": "execute_result"
    }
   ],
   "source": [
    "stops_heatmap = folium.Map(location=[39.0836, -77.1483], zoom_start=11)\n",
    "stops_heatmap.add_children(plugins.HeatMap([[row[\"longitude\"], row[\"latitude\"]] for name, row in morning_rush.iloc[:1000].iterrows()]))\n",
    "stops_heatmap.save(\"heatmap.html\")\n",
    "stops_heatmap"
   ]
  },
  {
   "cell_type": "code",
   "execution_count": null,
   "metadata": {},
   "outputs": [],
   "source": []
  },
  {
   "cell_type": "code",
   "execution_count": null,
   "metadata": {},
   "outputs": [],
   "source": []
  }
 ],
 "metadata": {
  "kernelspec": {
   "display_name": "Python 3",
   "language": "python",
   "name": "python3"
  },
  "language_info": {
   "codemirror_mode": {
    "name": "ipython",
    "version": 3
   },
   "file_extension": ".py",
   "mimetype": "text/x-python",
   "name": "python",
   "nbconvert_exporter": "python",
   "pygments_lexer": "ipython3",
   "version": "3.5.2"
  }
 },
 "nbformat": 4,
 "nbformat_minor": 2
}
